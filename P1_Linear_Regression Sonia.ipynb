{
 "cells": [
  {
   "cell_type": "markdown",
   "metadata": {},
   "source": [
    "# Problems 1 - Linear Regression"
   ]
  },
  {
   "cell_type": "markdown",
   "metadata": {
    "tags": []
   },
   "source": [
    "## 1.1 Warming up\n",
    "\n",
    "Consider the training set of $m=4$ training examples of the table below.\n",
    "\n",
    "| x   |  y  |\n",
    "|:---:|:---:|\n",
    "|  1  | 1.0 | \n",
    "|  2  | 1.5 | \n",
    "|  4  | 2.5 | \n",
    "|  0  | 0.5 | \n",
    "\n",
    "Consider the linear regression model $f_w(x) = w_0+w_1x$. \n",
    "\n",
    "<font color=blue>**Question:** Would a linear regression trained model be able to fit this data perfectly?</font>\n",
    "\n",
    "<font color=blue>What are the values of $w_0$ and $w_1$ that you would expect to obtain upon running gradient descent on this model?</font>"
   ]
  },
  {
   "cell_type": "markdown",
   "metadata": {},
   "source": [
    "---\n",
    "\n",
    "*Answer*\n",
    "\n",
    "\n",
    "No, the linear regression model will not fit the data perfectly, but it will come close.\n",
    "Using the regression model we have to know the mean of x and y values:\n",
    "x with hat = (1 +2+ 4 + 0)/4 = 1.75\n",
    "y with hat = (1 + 1.5 + 2.5 + 0.5 ) / 4 = 1.375\n",
    "Calculating w1 = sum of ((xi - mean of x) (yi - mean of y))/sum of (xi - mean of x) ^2\n",
    "so the result is w1 = 4.35/8.75 = 0.5\n",
    "\n",
    "And w0 = mean of y - w1(mean of x) = 1.375 - (0.5)(1.75) = 1.375 - 0.875 = 0.5\n",
    "\n",
    "The values of w1 and w0 to obtain upon running gradient descent on this model is 0.5 .\n",
    "\n",
    "---\n"
   ]
  },
  {
   "cell_type": "markdown",
   "metadata": {},
   "source": [
    "## 1.2 Plotting data"
   ]
  },
  {
   "cell_type": "markdown",
   "metadata": {},
   "source": [
    "You are given the following data on Cuba's PPP evolution. PPP is the Gross Domestic Product Purchasing Power Parity - an indication of a country's currency value compared to another country. Here it is compared to US dollars.\n",
    "\n",
    "| Year | Cuba's PPP |\n",
    "|------|-------|\n",
    "| 1999 | 1,700 |\n",
    "| 2000 | 1,700 |\n",
    "| 2002 | 2,300 |\n",
    "| 2003 | 2,900 |\n",
    "| 2004 | 3,000 |\n",
    "| 2005 | 3,500 |\n",
    "| 2006 | 4,000 |\n",
    "| 2007 | 11,000|\n",
    "| 2008 | 9,500 |\n",
    "| 2009 | 9,700 |\n",
    "| 2010 | 9,900 |"
   ]
  },
  {
   "cell_type": "markdown",
   "metadata": {},
   "source": [
    "Let's do a scatter plot of this data using `matplotlib`. You can have a look at the documentation of the `plot( )` function [here](https://matplotlib.org/stable/api/_as_gen/matplotlib.pyplot.plot.html)."
   ]
  },
  {
   "cell_type": "code",
   "execution_count": null,
   "metadata": {},
   "outputs": [],
   "source": [
    "import matplotlib.pyplot as plt"
   ]
  },
  {
   "cell_type": "code",
   "execution_count": null,
   "metadata": {},
   "outputs": [
    {
     "data": {
      "image/png": "[encoded data removed]",
      "text/plain": [
       "<Figure size 432x288 with 1 Axes>"
      ]
     },
     "metadata": {
      "needs_background": "light"
     },
     "output_type": "display_data"
    }
   ],
   "source": [
    "x = [1999, 2000, 2002, 2003, 2004, 2005, 2006, 2007, 2008, 2009, 2010]\n",
    "y = [1700, 1700, 2300, 2900, 3000, 3500, 4000, 11000, 9500, 9700, 9900]\n",
    "\n",
    "plt.plot(x, y, 'o') # plot dots ('o') for each sample\n",
    "plt.show()"
   ]
  },
  {
   "cell_type": "markdown",
   "metadata": {},
   "source": [
    "<font color=blue>**Question:** What do you make of this data? How did the PPP of Cuba evolve over the years? Could we fit this with a linear model?</font>"
   ]
  },
  {
   "cell_type": "markdown",
   "metadata": {},
   "source": [
    "---\n",
    "\n",
    "*Answer*\n",
    "\n",
    "The data indicates linear growth in Cuba's PPP from 1999 to 2006, followed by a sharp spike in 2007 and stabilization afterward. \n",
    "Could be exponential or linear.\n",
    "\n",
    "\n",
    "---\n"
   ]
  },
  {
   "cell_type": "markdown",
   "metadata": {},
   "source": [
    "Imagine that you try to fit a linear model to these data. This means a linear regression model of the form $f_w(x) = w_0+w_1x$ that is controlled by two parameters $w_0$ and $w_1$. Below is some code that first plots the data, and then plots a line given $w_0$ and $w_1$."
   ]
  },
  {
   "cell_type": "code",
   "execution_count": null,
   "metadata": {},
   "outputs": [
    {
     "data": {
      "image/png": "[encoded data removed]",
      "text/plain": [
       "<Figure size 432x288 with 1 Axes>"
      ]
     },
     "metadata": {
      "needs_background": "light"
     },
     "output_type": "display_data"
    }
   ],
   "source": [
    "# Plot the data\n",
    "plt.plot(x, y, 'o') # plot dots ('o') for each sample\n",
    "\n",
    "# Define the parameters for a line y = w0 + w1 * x\n",
    "w = [0, 0] # These are the parameters of the line [w0, w1]\n",
    "\n",
    "# Calculate a series of points along the line\n",
    "xx = range(1999, 2011) # This will create a list of integers from [1999 to 2010] which is the range of your x values\n",
    "yy = [w[0] + w[1] * x for x in xx] # Use list comprehension to create a list of corresponding outputs for y\n",
    "\n",
    "# Plot the line, connecting the points calculated\n",
    "plt.plot(xx, yy)\n",
    "plt.show()"
   ]
  },
  {
   "cell_type": "markdown",
   "metadata": {},
   "source": [
    "<font color=blue>**Exercise:** Can you manually adjust the two parameters in the code to obtain a line that fits the data well in your opinion?</font>"
   ]
  },
  {
   "cell_type": "code",
   "execution_count": null,
   "metadata": {},
   "outputs": [
    {
     "data": {
      "image/png": "[encoded data removed]",
      "text/plain": [
       "<Figure size 432x288 with 1 Axes>"
      ]
     },
     "metadata": {
      "needs_background": "light"
     },
     "output_type": "display_data"
    }
   ],
   "source": [
    "# Plot the data\n",
    "plt.plot(x, y, 'o') # plot dots ('o') for each sample\n",
    "\n",
    "# Define the parameters for a line y = w0 + w1 * x\n",
    "w = [-1000000, 500] # These are the parameters of the line [w0, w1]\n",
    "# w = [-50000, 30]\n",
    "# Calculate a series of points along the line\n",
    "xx = range(1999, 2011) # This will create a list of integers from [1999 to 2010] which is the range of your x values\n",
    "yy = [w[0] + w[1] * x for x in xx] # Use list comprehension to create a list of corresponding outputs for y\n",
    "\n",
    "# Plot the line, connecting the points calculated\n",
    "plt.plot(xx, yy)\n",
    "plt.show()\n"
   ]
  },
  {
   "cell_type": "markdown",
   "metadata": {},
   "source": [
    "<font color=blue>**Question:** What do you observe about the values of the parameters you have found?</font>"
   ]
  },
  {
   "cell_type": "markdown",
   "metadata": {},
   "source": [
    "---\n",
    "\n",
    "*Answer*\n",
    "\n",
    "Intercept w0 should be closer to the starting y-values of the data (around 1700–2000).\n",
    "\n",
    "Slope w1 should be increased significantly to reflect the steep rise, potentially in the range of 80–100, but this still won’t capture the full complexity of the data.\n",
    "\n",
    "---\n"
   ]
  },
  {
   "cell_type": "markdown",
   "metadata": {},
   "source": [
    "## 1.3 House Prices\n",
    "\n",
    "During the previous lecture, we used a running example of house prices. The task to be done is to predict the price of a house given some 'features' of the house. Our input data comprises two features per sample (size of the house, and number of rooms), while the output data is the price each house was sold at.\n",
    "\n",
    "Here is the data:\n",
    "\n",
    "| Size (square feet) | Rooms | Price (USD) |Size (square feet) | Rooms | Price (USD) |Size (square feet) | Rooms | Price (USD) |Size (square feet) | Rooms | Price (USD) |\n",
    "|:------ |:----|:----------|:------ |:----|:----------|:------ |:----|:----------|:------ |:----|:----------|\n",
    "| 2104.0 | 3.0 |  **399900.0** | 1890.0 | 3.0 |  **329999.0** | 3890.0 | 3.0 |  **573900.0** | 1239.0 | 3.0 |  **229900.0** |\n",
    "| 1600.0 | 3.0 |  **329900.0** | 4478.0 | 5.0 |  **699900.0** | 1100.0 | 3.0 |  **249900.0** | 2132.0 | 4.0 |  **345000.0** |\n",
    "| 2400.0 | 3.0 |  **369000.0** | 1268.0 | 3.0 |  **259900.0** | 1458.0 | 3.0 |  **464500.0** | 4215.0 | 4.0 |  **549000.0** | \n",
    "| 1416.0 | 2.0 |  **232000.0** | 2300.0 | 4.0 |  **449900.0** | 2526.0 | 3.0 |  **469000.0** | 2162.0 | 4.0 |  **287000.0** |\n",
    "| 3000.0 | 4.0 |  **539900.0** | 1320.0 | 2.0 |  **299900.0** | 2200.0 | 3.0 |  **475000.0** | 1664.0 | 2.0 |  **368500.0** | \n",
    "| 1985.0 | 4.0 |  **299900.0** | 1236.0 | 3.0 |  **199900.0** | 2637.0 | 3.0 |  **299900.0** | 2238.0 | 3.0 |  **329900.0** | \n",
    "| 1534.0 | 3.0 |  **314900.0** | 2609.0 | 4.0 |  **499998.0** | 1839.0 | 2.0 |  **349900.0** | 2567.0 | 4.0 |  **314000.0** | \n",
    "| 1427.0 | 3.0 |  **198999.0** | 3031.0 | 4.0 |  **599000.0** | 1000.0 | 1.0 |  **169900.0** | 1200.0 | 3.0 |  **299000.0** | \n",
    "| 1380.0 | 3.0 |  **212000.0** | 1767.0 | 3.0 |  **252900.0** | 2040.0 | 4.0 |  **314900.0** | 852.0  | 2.0 |  **179900.0** | \n",
    "| 1494.0 | 3.0 |  **242500.0** | 1888.0 | 2.0 |  **255000.0** | 3137.0 | 3.0 |  **579900.0** | 1852.0 | 4.0 |  **299900.0** | \n",
    "| 1940.0 | 4.0 |  **239999.0** | 1604.0 | 3.0 |  **242900.0** | 1811.0 | 4.0 |  **285900.0** | 1203.0 | 3.0 |  **239500.0** | \n",
    "| 2000.0 | 3.0 |  **347000.0** | 1962.0 | 4.0 |  **259900.0** | 1437.0 | 3.0 |  **249900.0** | \n",
    "\n",
    "Let's first get them into Python. For simplification we are going to use only one feature for the time being - the size of the house."
   ]
  },
  {
   "cell_type": "code",
   "execution_count": null,
   "metadata": {},
   "outputs": [],
   "source": [
    "import numpy as np"
   ]
  },
  {
   "cell_type": "code",
   "execution_count": null,
   "metadata": {},
   "outputs": [],
   "source": [
    "size = np.array([2104., 1600., 2400., 1416., 3000., 1985., 1534., 1427., 1380., \n",
    "       1494., 1940., 2000., 1890., 4478., 1268., 2300., 1320., 1236.,\n",
    "       2609., 3031., 1767., 1888., 1604., 1962., 3890., 1100., 1458.,\n",
    "       2526., 2200., 2637., 1839., 1000., 2040., 3137., 1811., 1437.,\n",
    "       1239., 2132., 4215., 2162., 1664., 2238., 2567., 1200.,  852.,\n",
    "       1852., 1203.])\n",
    "\n",
    "rooms = np.array([3., 3., 3., 2., 4., 4., 3., 3., 3., 3., 4., 3., 3., 5., 3., 4., 2.,\n",
    "       3., 4., 4., 3., 2., 3., 4., 3., 3., 3., 3., 3., 3., 2., 1., 4., 3.,\n",
    "       4., 3., 3., 4., 4., 4., 2., 3., 4., 3., 2., 4., 3.])\n",
    "\n",
    "price = np.array([399900., 329900., 369000., 232000., 539900., 299900., 314900.,\n",
    "       198999., 212000., 242500., 239999., 347000., 329999., 699900.,\n",
    "       259900., 449900., 299900., 199900., 499998., 599000., 252900.,\n",
    "       255000., 242900., 259900., 573900., 249900., 464500., 469000.,\n",
    "       475000., 299900., 349900., 169900., 314900., 579900., 285900.,\n",
    "       249900., 229900., 345000., 549000., 287000., 368500., 329900.,\n",
    "       314000., 299000., 179900., 299900., 239500.])"
   ]
  },
  {
   "cell_type": "markdown",
   "metadata": {},
   "source": [
    "<br>\n",
    "\n",
    "<font color=blue>**Exercise:** How many samples do we have in our dataset?</font>"
   ]
  },
  {
   "cell_type": "code",
   "execution_count": null,
   "metadata": {},
   "outputs": [
    {
     "name": "stdout",
     "output_type": "stream",
     "text": [
      "47\n"
     ]
    }
   ],
   "source": [
    "# YOUR CODE HERE\n",
    "print (len(size))\n"
   ]
  },
  {
   "cell_type": "markdown",
   "metadata": {},
   "source": [
    "<br>\n",
    "\n",
    "<font color=blue>**Exercise:** Do a scatter plot of size versus price (you can ignore the number of rooms for now)</font>"
   ]
  },
  {
   "cell_type": "code",
   "execution_count": null,
   "metadata": {
    "collapsed": false,
    "jupyter": {
     "outputs_hidden": false
    }
   },
   "outputs": [
    {
     "data": {
      "image/png": "[encoded data removed]",
      "text/plain": [
       "<Figure size 432x288 with 1 Axes>"
      ]
     },
     "metadata": {
      "needs_background": "light"
     },
     "output_type": "display_data"
    }
   ],
   "source": [
    "# YOUR CODE HERE\n",
    "plt.plot(size, price, 'o')\n",
    "plt.show()\n"
   ]
  },
  {
   "cell_type": "markdown",
   "metadata": {},
   "source": [
    "We want to automatically find a model to predict prices $y$ for houses that are not in our dataset. In linear regression, the model $f$ is a linear function of the input data ($x$, in our case the house size):\n",
    "\n",
    "> $f_w(x) = w_0 + w_1 x$\n",
    "\n",
    "For this we need to choose the parameters $w_i$ minimizing a cost function $J$ e.g. the average squared difference between the predictions ($f_w$) and the real prices ($y$) in our training data:\n",
    "\n",
    "> $\\hat{w} = \\underset{w}{\\text{minimize}} {1 \\over 2m} \\sum_{i=1}^m{(f_w(x^{(i)}) - y^{(i)})^2}$\n",
    "\n",
    "where $(x^{(i)},y^{(i)})$ is the i-th training sample, and $m$ is the number of samples in our training set.\n",
    "\n",
    "This optimization problem can be solved in different ways, in this example we are going to implement the Gradient Descent algorithm. In pseudo-code the Gradient Descent algorithm is formalized as follows:\n",
    "\n",
    "repeat until convergence:\n",
    "\n",
    "> {\n",
    "> \n",
    "> $w_j := w_j - \\alpha \\frac{\\partial}{\\partial w_j} J(w)$ (for all j)\n",
    ">\n",
    "> }\n",
    "\n",
    "where $\\alpha$ is the learning rate, and the partial derivative (the gradient) of the cost function is given by (generic expression):\n",
    "\n",
    "> $\\frac{\\partial}{\\partial w_j} J(w) = {1 \\over m} \\sum_{i=1}^m{(f_w(x^{(i)}) - y^{(i)}) x_j^{(i)}}$\n",
    "\n",
    "In our case, the partial derivatives for $w_0$ and $w_1$ are:\n",
    "\n",
    "> $\\frac{\\partial}{\\partial w_0} J(w) = {1 \\over m} \\sum_{i=1}^m{(f_w(x^{(i)}) - y^{(i)})}$\n",
    "\n",
    "> $\\frac{\\partial}{\\partial w_1} J(w) = {1 \\over m} \\sum_{i=1}^m{(f_w(x^{(i)}) - y^{(i)}) x^{(i)}}$\n",
    "\n",
    "Let's see a first (quite inefficient) version of the Gradient Descent algorithm in Python:"
   ]
  },
  {
   "cell_type": "code",
   "execution_count": null,
   "metadata": {},
   "outputs": [
    {
     "name": "stdout",
     "output_type": "stream",
     "text": [
      "[0.08050805332714407, 163.9249033496211]\n"
     ]
    }
   ],
   "source": [
    "def GradientDescent(x, y, max_iterations=100, alpha=0.00000001):\n",
    "    m = len(x) # number of samples\n",
    "   \n",
    "    #initialize the parameters to zero (or any other random value)\n",
    "    w0 = 0\n",
    "    w1 = 0\n",
    "    \n",
    "    for it in range(max_iterations): #lets take a max of max_iteration steps updating the parameters\n",
    "        s0 = 0 # We will use this to calculate the sum inside the cost function\n",
    "        s1 = 0\n",
    "        for i in range(m): #Go over the points and calculate the sum\n",
    "            h = w0 + w1 * x[i]\n",
    "            s0 = s0 + (h - y[i])\n",
    "            s1 = s1 + (h - y[i])* x[i]\n",
    "        Grad0 = s0 / m #we don't care about how much the value cost, so we don't put the 2 down like 2m becuase we didn't put the square in the previous funtion\n",
    "        Grad1 = s1 / m \n",
    "        #we do both at the same time.\n",
    "        w0 = w0 - alpha * Grad0\n",
    "        w1 = w1 - alpha * Grad1\n",
    "        \n",
    "    return [w0, w1]\n",
    "    \n",
    "w = GradientDescent(size, price)\n",
    "\n",
    "print(w)"
   ]
  },
  {
   "cell_type": "markdown",
   "metadata": {},
   "source": [
    "<br>\n",
    "\n",
    "<font color=blue>**Exercise:** Plot the points of our dataset and a line using the parameter values `w` that you just calculated</font>"
   ]
  },
  {
   "cell_type": "code",
   "execution_count": null,
   "metadata": {},
   "outputs": [
    {
     "data": {
      "image/png": "[encoded data removed]",
      "text/plain": [
       "<Figure size 432x288 with 1 Axes>"
      ]
     },
     "metadata": {
      "needs_background": "light"
     },
     "output_type": "display_data"
    }
   ],
   "source": [
    "# YOUR CODE HERE\n",
    "plt.plot(size, price, 'o')\n",
    "\n",
    "xx = np.arange(min(size), max(size))\n",
    "yy = [w[0] + w[1] * x for x in xx]\n",
    "\n",
    "plt.plot(xx,yy)\n",
    "plt.show()\n"
   ]
  },
  {
   "cell_type": "markdown",
   "metadata": {},
   "source": [
    "<br>\n",
    "\n",
    "<font color=blue>**Exercise:** Use the model you have calculated to predict the price of a house with `size = 3200` square feet.</font>"
   ]
  },
  {
   "cell_type": "code",
   "execution_count": null,
   "metadata": {},
   "outputs": [
    {
     "name": "stdout",
     "output_type": "stream",
     "text": [
      "524559.7712268408\n"
     ]
    }
   ],
   "source": [
    "# YOUR CODE HERE\n",
    "#524000\n",
    "house_size = 3200\n",
    "predicted_price = w[0] + w[1] * house_size\n",
    "print(predicted_price)"
   ]
  },
  {
   "cell_type": "markdown",
   "metadata": {},
   "source": [
    "<font color=blue>**Exercise:** Modify the gradient descent function to store and return the cost in every iteration, so that we can then plot the evolution of the cost during the optimisation (training) process. Then use it to plot the cost evolution.</font>"
   ]
  },
  {
   "cell_type": "code",
   "execution_count": null,
   "metadata": {},
   "outputs": [
    {
     "data": {
      "image/png": "[encoded data removed]",
      "text/plain": [
       "<Figure size 432x288 with 1 Axes>"
      ]
     },
     "metadata": {
      "needs_background": "light"
     },
     "output_type": "display_data"
    }
   ],
   "source": [
    "# YOUR CODE HERE\n",
    "def GradientDescent(x, y, max_iterations=100, alpha=0.00000001):\n",
    "    m = len(x) # number of samples\n",
    "   \n",
    "    #initialize the parameters to zero (or any other random value)\n",
    "    w0 = 0\n",
    "    w1 = 0\n",
    "    costs =  []\n",
    "    \n",
    "    for it in range(max_iterations): #lets take a max of max_iteration steps updating the parameters\n",
    "        s0 = 0 # We will use this to calculate the sum inside the cost function\n",
    "        s1 = 0\n",
    "        cost = 0\n",
    "        for i in range(m): #Go over the points and calculate the sum\n",
    "            h = w0 + w1 * x[i]\n",
    "            s0 = s0 + (h - y[i])\n",
    "            s1 = s1 + (h - y[i])* x[i]\n",
    "            cost += (h - y[i]) ** 2\n",
    "        Grad0 = s0 / m #we don't care about how much the value cost, so we don't put the 2 down like 2m becuase we didn't put the square in the previous funtion\n",
    "        Grad1 = s1 / m \n",
    "        #we do both at the same time.\n",
    "        w0 = w0 - alpha * Grad0\n",
    "        w1 = w1 - alpha * Grad1\n",
    "        cost = cost / (2 * m)\n",
    "        costs.append(cost)\n",
    "    return [w0, w1], costs\n",
    "    \n",
    "w, costs = GradientDescent(size, price)\n",
    "\n",
    "\n",
    "plt.plot(range(len(costs)), costs,'o')\n",
    "plt.xlabel('Iteration')\n",
    "plt.ylabel('Cost ')\n",
    "plt.title('Cost Evolution During Gradient Descent')\n",
    "plt.show()\n"
   ]
  },
  {
   "cell_type": "markdown",
   "metadata": {},
   "source": [
    "<font color=blue>**Exercise:** Play around with different values of the `max_iterations` and `alpha` (learning rate) parameters and plot the evolution of the cost function. For what values of the learning rate does the process converge, and when does it diverge?</font>"
   ]
  },
  {
   "cell_type": "code",
   "execution_count": null,
   "metadata": {},
   "outputs": [
    {
     "data": {
      "image/png": "[encoded data removed]",
      "text/plain": [
       "<Figure size 432x288 with 1 Axes>"
      ]
     },
     "metadata": {
      "needs_background": "light"
     },
     "output_type": "display_data"
    },
    {
     "data": {
      "image/png": "[encoded data removed]",
      "text/plain": [
       "<Figure size 432x288 with 1 Axes>"
      ]
     },
     "metadata": {
      "needs_background": "light"
     },
     "output_type": "display_data"
    },
    {
     "data": {
      "image/png": "[encoded data removed]",
      "text/plain": [
       "<Figure size 432x288 with 1 Axes>"
      ]
     },
     "metadata": {
      "needs_background": "light"
     },
     "output_type": "display_data"
    },
    {
     "data": {
      "image/png": "[encoded data removed]",
      "text/plain": [
       "<Figure size 432x288 with 1 Axes>"
      ]
     },
     "metadata": {
      "needs_background": "light"
     },
     "output_type": "display_data"
    }
   ],
   "source": [
    "# YOUR CODE HERE\n",
    "def plot_cost_evolution(alpha, max_iterations=100):\n",
    "    w, costs = GradientDescent(size, price, max_iterations=max_iterations, alpha=alpha)\n",
    "    \n",
    "    plt.plot(range(len(costs)), costs, '-')\n",
    "    plt.xlabel('Iteration')\n",
    "    plt.ylabel('Cost')\n",
    "    plt.title(f'Cost Evolution with alpha={alpha}')\n",
    "    plt.show()\n",
    "    \n",
    "plot_cost_evolution(alpha=0.000000001, max_iterations=100)\n",
    "\n",
    "plot_cost_evolution(alpha=0.00000001, max_iterations=100)\n",
    "\n",
    "plot_cost_evolution(alpha=0.0000001, max_iterations=100)\n",
    "\n",
    "plot_cost_evolution(alpha=0.000001, max_iterations=100)\n"
   ]
  },
  {
   "cell_type": "markdown",
   "metadata": {},
   "source": [
    "ANSWER:\n",
    "\n",
    "Convergence is achieved with moderate learning rates like alpha = 0.00000001.\n",
    "\n",
    "Divergence occurs when the learning rate is too large, such as alpha = 0.000001."
   ]
  },
  {
   "cell_type": "markdown",
   "metadata": {},
   "source": [
    "<br>\n",
    "\n",
    "*Info*: There are existing implementations for linear regression available for Python. For example, using the sklearn module's implementation, it would be:"
   ]
  },
  {
   "cell_type": "code",
   "execution_count": null,
   "metadata": {},
   "outputs": [
    {
     "name": "stdout",
     "output_type": "stream",
     "text": [
      "The estimated value of w0 (the intercept of the line) is: 71270.49244872911\n",
      "The estimated value of w1 (the slope) is: 134.52528772024132\n",
      "The estimated price for a house with size = 3200 using the model would be: [501751.4131535]\n"
     ]
    }
   ],
   "source": [
    "import numpy as np\n",
    "from sklearn.linear_model import LinearRegression\n",
    "\n",
    "x = np.array(size).reshape(-1, 1) # make this a 1 column vector\n",
    "y = np.array(price)\n",
    "\n",
    "reg = LinearRegression().fit(x, y)\n",
    "\n",
    "print('The estimated value of w0 (the intercept of the line) is: {0}'.format(reg.intercept_))\n",
    "print('The estimated value of w1 (the slope) is: {0}'.format(reg.coef_[0]))\n",
    "\n",
    "print('The estimated price for a house with size = 3200 using the model would be: {0}'.format(reg.predict([[3200]])))"
   ]
  },
  {
   "cell_type": "markdown",
   "metadata": {},
   "source": [
    "<br>\n",
    "\n",
    "<font color=blue>**Home Study:** Have a look at the help pages for the `LinearRegression()` function of `sklearn`, as well as a read of the help page of the function [https://scikit-learn.org/stable/modules/generated/sklearn.linear_model.LinearRegression.html](https://scikit-learn.org/stable/modules/generated/sklearn.linear_model.LinearRegression.html) </font>"
   ]
  },
  {
   "cell_type": "markdown",
   "metadata": {},
   "source": [
    "<br>\n",
    "\n",
    "<font color=blue>**Food for thought:** The parameters that the sklearn model obtains seem to be quite different from what our model does... you could try a few more values in or outside the range of house sizes we have. Which model is better in your opinion? Why? Where does this difference come from?</font>"
   ]
  },
  {
   "cell_type": "code",
   "execution_count": null,
   "metadata": {},
   "outputs": [
    {
     "name": "stdout",
     "output_type": "stream",
     "text": [
      "Predicted price for a house with size 500: 138533.1363088498\n",
      "Predicted price for a house with size 1500: 273058.42402909114\n",
      "Predicted price for a house with size 3200: 501751.41315350134\n",
      "Predicted price for a house with size 4500: 676634.2871898151\n",
      "Predicted price for a house with size 5000: 743896.9310499358\n"
     ]
    }
   ],
   "source": [
    "# YOUR CODE HERE\n",
    "\n",
    "sizes_to_predict = [500, 1500, 3200, 4500, 5000]  # Inside and outside data range\n",
    "\n",
    "# Predict using the scikit-learn model\n",
    "for size in sizes_to_predict:\n",
    "    predicted_price = reg.predict([[size]])\n",
    "    print(f'Predicted price for a house with size {size}: {predicted_price[0]}')"
   ]
  },
  {
   "cell_type": "markdown",
   "metadata": {},
   "source": [
    "---\n",
    "\n",
    "*Answer*\n",
    "\n",
    "The difference comes from the precision of the solutions. Sklearn directly calculates the global optimum, while gradient descent approximates the optimum through iterative updates, which can be inaccurate if it isn't done correctly.\n",
    "\n",
    "Sklearn is generally more precise and robust. In comparison with Gradient Descent that depends heavily on its setup (learning rate, iterations) and might not converge to the same parameters if not optimized properly. So in my opinion is better to use sklearn if you want a better solution.\n",
    "\n",
    "---\n"
   ]
  }
 ],
 "metadata": {
  "kernelspec": {
   "display_name": "Python 3 (ipykernel)",
   "language": "python",
   "name": "python3"
  },
  "language_info": {
   "codemirror_mode": {
    "name": "ipython",
    "version": 3
   },
   "file_extension": ".py",
   "mimetype": "text/x-python",
   "name": "python",
   "nbconvert_exporter": "python",
   "pygments_lexer": "ipython3",
   "version": "3.9.7"
  }
 },
 "nbformat": 4,
 "nbformat_minor": 4
}
